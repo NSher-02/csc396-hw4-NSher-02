{
 "cells": [
  {
   "cell_type": "code",
   "execution_count": 1,
   "id": "72e2fdab-a583-482f-84ea-892e11939a7c",
   "metadata": {},
   "outputs": [],
   "source": [
    "# Importing packages\n",
    "\n",
    "from transformers import RobertaTokenizer, RobertaModel\n",
    "import torch\n",
    "import numpy as np"
   ]
  },
  {
   "cell_type": "code",
   "execution_count": 2,
   "id": "e49b5e98-6e3c-438a-b98e-c349836d9394",
   "metadata": {},
   "outputs": [
    {
     "name": "stdout",
     "output_type": "stream",
     "text": [
      "RobertaTokenizer loaded successfully.\n"
     ]
    },
    {
     "name": "stderr",
     "output_type": "stream",
     "text": [
      "Some weights of RobertaModel were not initialized from the model checkpoint at roberta-base and are newly initialized: ['roberta.pooler.dense.bias', 'roberta.pooler.dense.weight']\n",
      "You should probably TRAIN this model on a down-stream task to be able to use it for predictions and inference.\n"
     ]
    },
    {
     "name": "stdout",
     "output_type": "stream",
     "text": [
      "RobertaModel loaded successfully.\n"
     ]
    }
   ],
   "source": [
    "# Loading tokenizer and model\n",
    "\n",
    "tokenizer = RobertaTokenizer.from_pretrained(\"roberta-base\")\n",
    "print(\"RobertaTokenizer loaded successfully.\")\n",
    "\n",
    "model = RobertaModel.from_pretrained(\"roberta-base\")\n",
    "print(\"RobertaModel loaded successfully.\")\n",
    "#model.eval()"
   ]
  },
  {
   "cell_type": "code",
   "execution_count": 3,
   "id": "44fac433-e3ed-4c0a-8e55-1cda435f10b4",
   "metadata": {},
   "outputs": [
    {
     "name": "stdout",
     "output_type": "stream",
     "text": [
      "Data set loaded successfully.\n"
     ]
    }
   ],
   "source": [
    "# Loading dataset\n",
    "\n",
    "file_path = \"dataset.txt\"\n",
    "with open(file_path, \"r\") as file:\n",
    "    texts = file.readlines()\n",
    "print(\"Data set loaded successfully.\")"
   ]
  },
  {
   "cell_type": "code",
   "execution_count": 4,
   "id": "385907e3-773d-4903-ba9b-09d7a924f70c",
   "metadata": {},
   "outputs": [],
   "source": [
    "# Tokenizing data\n",
    "\n",
    "tokenized_texts = [tokenizer(text, return_tensors=\"pt\", truncation=True, padding=True) for text in texts]"
   ]
  },
  {
   "cell_type": "code",
   "execution_count": null,
   "id": "c3df4426-a74e-4f15-b092-94dfa6173cdd",
   "metadata": {},
   "outputs": [],
   "source": [
    "# Getting embeddings\n",
    "\n",
    "embeddings = []\n",
    "for tokens in tokenized_texts:\n",
    "    with torch.no_grad():\n",
    "        outputs = model(**tokens)\n",
    "        embeddings.append(outputs.last_hidden_state)\n",
    "print(\"Embeddings complete!\")"
   ]
  },
  {
   "cell_type": "code",
   "execution_count": null,
   "id": "c8be5abc-b224-4ea9-b173-f601b7fdfc04",
   "metadata": {},
   "outputs": [],
   "source": [
    "# Calculating average token embeddings\n",
    "\n",
    "token_embeddings = {}\n",
    "for text, output in zip(tokenized_texts, embeddings):\n",
    "    for idx, token in enumerate(text[\"input_ids\"][0]):\n",
    "        token_id = token.item()\n",
    "        token_str = tokenizer.decode([token_id])\n",
    "        if token_str not in token_embeddings:\n",
    "            token_embeddings[token_str] = []\n",
    "        token_embeddings[token_str].append(output[0, idx].numpy())\n",
    "averaged_embeddings = {token: np.mean(embeds, axis=0) for token, embeds in token_embeddings.items()}\n",
    "print(\"Average embeddings complete!\")"
   ]
  },
  {
   "cell_type": "code",
   "execution_count": null,
   "id": "14a593d6-f212-47c9-9fff-9fb54c3c3a24",
   "metadata": {},
   "outputs": [],
   "source": [
    "# Printing first average embedding\n",
    "\n",
    "for token, embedding in list(averaged_embeddings.items())[:1]:\n",
    "    print(f\"Token: {token}\\nAverage Embedding: {embedding}\\n\")"
   ]
  }
 ],
 "metadata": {
  "kernelspec": {
   "display_name": "Python 3 (ipykernel)",
   "language": "python",
   "name": "python3"
  },
  "language_info": {
   "codemirror_mode": {
    "name": "ipython",
    "version": 3
   },
   "file_extension": ".py",
   "mimetype": "text/x-python",
   "name": "python",
   "nbconvert_exporter": "python",
   "pygments_lexer": "ipython3",
   "version": "3.11.6"
  }
 },
 "nbformat": 4,
 "nbformat_minor": 5
}
