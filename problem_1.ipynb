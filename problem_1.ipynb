{
 "cells": [
  {
   "cell_type": "code",
   "execution_count": 1,
   "id": "a1fdbf1c-fe3a-4c07-ab9d-1ea400aa1a3e",
   "metadata": {},
   "outputs": [],
   "source": [
    "# Importing necessary packages.\n",
    "\n",
    "from transformers import RobertaTokenizer, RobertaModel\n",
    "import torch"
   ]
  },
  {
   "cell_type": "code",
   "execution_count": 2,
   "id": "49ef42cf-291e-44a0-baa8-a818665dbf59",
   "metadata": {},
   "outputs": [
    {
     "name": "stdout",
     "output_type": "stream",
     "text": [
      "RobertaTokenizer loaded successfully.\n"
     ]
    },
    {
     "name": "stderr",
     "output_type": "stream",
     "text": [
      "Some weights of RobertaModel were not initialized from the model checkpoint at facebookai/roberta-base and are newly initialized: ['roberta.pooler.dense.bias', 'roberta.pooler.dense.weight']\n",
      "You should probably TRAIN this model on a down-stream task to be able to use it for predictions and inference.\n"
     ]
    },
    {
     "name": "stdout",
     "output_type": "stream",
     "text": [
      "RobertaModel loaded successfully.\n"
     ]
    }
   ],
   "source": [
    "# Loading tokenizer and model.\n",
    "\n",
    "tokenizer = RobertaTokenizer.from_pretrained(\"facebookai/roberta-base\")\n",
    "print(\"RobertaTokenizer loaded successfully.\")\n",
    "\n",
    "model = RobertaModel.from_pretrained(\"facebookai/roberta-base\")\n",
    "print(\"RobertaModel loaded successfully.\")"
   ]
  },
  {
   "cell_type": "code",
   "execution_count": 3,
   "id": "a0b7d71a-2082-43fe-b15a-be222f2e98e1",
   "metadata": {},
   "outputs": [
    {
     "name": "stdout",
     "output_type": "stream",
     "text": [
      "Data set loaded successfully.\n"
     ]
    }
   ],
   "source": [
    "# Accessing text file.\n",
    "\n",
    "file_path = \"dataset.txt\"\n",
    "with open(file_path, \"r\") as file:\n",
    "    data = file.readlines()\n",
    "print(\"Data set loaded successfully.\")"
   ]
  },
  {
   "cell_type": "code",
   "execution_count": 4,
   "id": "e1e7c8d1-8901-470b-af59-afc4535adf9b",
   "metadata": {},
   "outputs": [],
   "source": [
    "# Tokenizing the data.\n",
    "\n",
    "input = tokenizer(data, \n",
    "                  return_tensors = \"pt\",\n",
    "                  padding = True,\n",
    "                  truncation = True)"
   ]
  },
  {
   "cell_type": "code",
   "execution_count": null,
   "id": "5f57d890-1dbf-4648-9afb-8cf1fa7b9042",
   "metadata": {},
   "outputs": [],
   "source": [
    "# Getting embedddings from tokenized data.\n",
    "\n",
    "with torch.no_grad():\n",
    "    output = model(**input)\n",
    "    token_embeddings = output.last_hidden_state"
   ]
  },
  {
   "cell_type": "code",
   "execution_count": null,
   "id": "6a29c245-f163-4337-aeb2-113d71384d73",
   "metadata": {},
   "outputs": [],
   "source": [
    "# Creating dictionary to store each token's embeddings.\n",
    "\n",
    "token_to_embeddings = {}\n",
    "\n",
    "for sentence_idx, sentence_embeddings in enumerate(token_embeddings):\n",
    "    for token_idx, token_emebdding in enumerate(sentence_embeddings):\n",
    "        token_id = input.input_ids[sentence_idx][token_idx].item()\n",
    "        token_embedding = token_embedding.numpy()\n",
    "\n",
    "        if token_id not in token_to_embeddings:\n",
    "            token_to_embeddings[token_id] = []\n",
    "        token_to_embeddings[token_id].append(token_embedding)"
   ]
  },
  {
   "cell_type": "code",
   "execution_count": null,
   "id": "c2d641d7-56d9-40f0-ace4-27caa94d9412",
   "metadata": {},
   "outputs": [],
   "source": [
    "# Calculating the average embedding for each token.\n",
    "\n",
    "token_to_avg_embedding = {token: np.mean(embeddings, axis = 0) for token, embeddings in token_to_embeddings.items()}\n",
    "\n",
    "id_to_token = {token_id: tokenizer.decode([token_id]) for token_id in token_to_avg_embedding.keys()}\n",
    "for token_id, avg_embedding in token_to_avg_embedding.items():\n",
    "    token = id_to_token[token_id]\n",
    "    print(f\"Token: {token}, Average Embedding: {avg_embedding[:10]}...\")"
   ]
  }
 ],
 "metadata": {
  "kernelspec": {
   "display_name": "Python 3 (ipykernel)",
   "language": "python",
   "name": "python3"
  },
  "language_info": {
   "codemirror_mode": {
    "name": "ipython",
    "version": 3
   },
   "file_extension": ".py",
   "mimetype": "text/x-python",
   "name": "python",
   "nbconvert_exporter": "python",
   "pygments_lexer": "ipython3",
   "version": "3.11.6"
  }
 },
 "nbformat": 4,
 "nbformat_minor": 5
}
